{
  "nbformat": 4,
  "nbformat_minor": 0,
  "metadata": {
    "colab": {
      "name": "Webscrapping",
      "provenance": [],
      "authorship_tag": "ABX9TyOpjbhLezE7LCS36z/TSTRV",
      "include_colab_link": true
    },
    "kernelspec": {
      "name": "python3",
      "display_name": "Python 3"
    },
    "language_info": {
      "name": "python"
    }
  },
  "cells": [
    {
      "cell_type": "markdown",
      "metadata": {
        "id": "view-in-github",
        "colab_type": "text"
      },
      "source": [
        "<a href=\"https://colab.research.google.com/github/Andrewdm0/Webscrapping/blob/main/Webscrapping.ipynb\" target=\"_parent\"><img src=\"https://colab.research.google.com/assets/colab-badge.svg\" alt=\"Open In Colab\"/></a>"
      ]
    },
    {
      "cell_type": "markdown",
      "metadata": {
        "id": "lTV4WdzUXNc0"
      },
      "source": [
        "# Webscrapping do Site da UOL"
      ]
    },
    {
      "cell_type": "code",
      "metadata": {
        "colab": {
          "base_uri": "https://localhost:8080/"
        },
        "id": "pjhZY8z1OJsa",
        "outputId": "ca432f3f-cfb8-4012-8752-5afed2dea2b0"
      },
      "source": [
        "import requests\n",
        "from bs4 import BeautifulSoup\n",
        "import pandas as pd\n",
        "\n",
        "\n",
        "texto_string = requests.get('https://www.uol.com.br/esporte/colunas/fabio-seixas/2021/11/13/entenda-as-investigacoes-sobre-hamilton-e-verstappen.htm').text\n",
        "\n",
        "bs4_string = BeautifulSoup(texto_string,'html.parser')\n",
        "\n",
        "titulo_noticia = bs4_string.find('i',attrs = {'class':'col-sm-22 col-md-22 col-lg-22 custom-title'})\n",
        "titulo_noticia = titulo_noticia.text.replace('\"',\"\")\n",
        "\n",
        "head_noticia = bs4_string.find('div',attrs={'class':'text'})\n",
        "head_noticia = head_noticia.contents[1].text\n",
        "\n",
        "data_noticia = bs4_string.find('p',attrs={'class':'p-author time'})\n",
        "data_noticia = data_noticia.text\n",
        "\n",
        "dados = []\n",
        "dados =[titulo_noticia,head_noticia,data_noticia]\n",
        "\n",
        "index_noticia = ['Titulo','Head','Data']\n",
        "sr_dados = pd.Series(data=dados,index=index_noticia)\n",
        "\n",
        "# print(titulo_noticia)\n",
        "# print('\\n',head_materia)\n",
        "print(sr_dados)"
      ],
      "execution_count": null,
      "outputs": [
        {
          "output_type": "stream",
          "name": "stdout",
          "text": [
            "Titulo    Entenda as investigações sobre Hamilton e Vers...\n",
            "Head      Quando todo mundo achava que a sexta-feira hav...\n",
            "Data                                      13/11/2021 07h07 \n",
            "dtype: object\n"
          ]
        }
      ]
    }
  ]
}